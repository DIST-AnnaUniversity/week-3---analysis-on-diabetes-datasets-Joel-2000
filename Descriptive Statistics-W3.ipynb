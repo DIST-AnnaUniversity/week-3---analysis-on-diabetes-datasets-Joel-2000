{
  "nbformat": 4,
  "nbformat_minor": 0,
  "metadata": {
    "colab": {
      "provenance": []
    },
    "kernelspec": {
      "name": "python3",
      "display_name": "Python 3"
    },
    "language_info": {
      "name": "python"
    }
  },
  "cells": [
    {
      "cell_type": "markdown",
      "source": [
        "**Descriptive  Statistics on Diabetes Dataset:**"
      ],
      "metadata": {
        "id": "Ox4r5sT283pS"
      }
    },
    {
      "cell_type": "markdown",
      "source": [
        "**Regular Insulin Dose of October Month:**"
      ],
      "metadata": {
        "id": "A5bgE6Y_TFo_"
      }
    },
    {
      "cell_type": "code",
      "execution_count": null,
      "metadata": {
        "id": "qoH5V5nz8awi",
        "colab": {
          "base_uri": "https://localhost:8080/"
        },
        "outputId": "d1826a58-12a3-4c02-add1-824ff61a01d3"
      },
      "outputs": [
        {
          "output_type": "stream",
          "name": "stdout",
          "text": [
            "           Date   Time  Code Value\n",
            "1    10-10-1989  08:00    33    10\n",
            "3    10-10-1989  12:00    33     4\n",
            "5    10-10-1989  18:00    33    10\n",
            "7    10-10-1989  22:00    33    14\n",
            "9    10-11-1989  08:00    33    10\n",
            "..          ...    ...   ...   ...\n",
            "166  10-30-1989  22:00    33    14\n",
            "168  10-31-1989  08:00    33    12\n",
            "170  10-31-1989  12:00    33     8\n",
            "172  10-31-1989  18:00    33    10\n",
            "174  10-31-1989  22:00    33    14\n",
            "\n",
            "[86 rows x 4 columns]\n"
          ]
        }
      ],
      "source": [
        "import matplotlib.pyplot as plt\n",
        "import pandas as pd\n",
        "import io\n",
        "\n",
        "\n",
        "df=pd.read_csv('diabetes2.csv')\n",
        "d=df.iloc[:175]\n",
        "# Taking dataset of only october month\n",
        "#Regular insulin dose dataframe\n",
        "a=d.query(\"Code==33\")\n",
        "print(a)"
      ]
    },
    {
      "cell_type": "markdown",
      "source": [
        "**Dataframe of 10th October:**"
      ],
      "metadata": {
        "id": "rAfe8VMUhmdH"
      }
    },
    {
      "cell_type": "code",
      "source": [
        "import pandas as pd\n",
        "import io\n",
        "import statistics\n",
        "df=pd.read_csv('diabetes2.csv')\n",
        "df=df.iloc[:8]\n",
        "#print(df)\n",
        "l1=df.query(\"Code==58\")\n",
        "l2=df.query(\"Code==60\")\n",
        "l3=df.query(\"Code==62\")\n",
        "# m1=statistics.mean(pd.to_numeric(l1['Value']))\n",
        "# print(m1)\n",
        "#print(l1['Value'])\n",
        "data={'Pre-bf':l1['Value'],'Pre-lunch':l2['Value'],'Pre-supper':l3['Value']}\n",
        "tab=pd.DataFrame(data)\n",
        "print(tab)\n",
        "# #df.loc[ df[“column_name”] == “some_value”, “column_name”] = “value”\n",
        "# tab.loc[tab['Pre-bf']=='NaN','Pre-bf']=m1\n",
        "\n",
        "# #tab['Pre-bf']=tab['Pre-bf'].replace(['NaN'],m1)\n",
        "# #l1['Value']=l1['Value'].replace('NaN',m1)\n",
        "# print(tab)\n",
        "# print(tab.dropna())"
      ],
      "metadata": {
        "colab": {
          "base_uri": "https://localhost:8080/"
        },
        "id": "f-fxly_vUTQi",
        "outputId": "848d73f7-8c58-4dd1-c0ef-c41cd69095ff"
      },
      "execution_count": 31,
      "outputs": [
        {
          "output_type": "stream",
          "name": "stdout",
          "text": [
            "  Pre-bf Pre-lunch Pre-supper\n",
            "0    149       NaN        NaN\n",
            "2    NaN       116        NaN\n",
            "4    NaN       NaN        304\n"
          ]
        }
      ]
    },
    {
      "cell_type": "markdown",
      "source": [
        "**Stem Leaf Plot of Regular Insulin Dose in October**"
      ],
      "metadata": {
        "id": "6eb-XC9cKroj"
      }
    },
    {
      "cell_type": "code",
      "source": [
        "import stemgraphic\n",
        "import pandas as pd\n",
        "import io\n",
        "\n",
        "df=pd.read_csv('diabetes2.csv')\n",
        "d=df.iloc[:175]\n",
        "a=d.query(\"Code==33\")\n",
        "b=a['Value']\n",
        "#a['Value']=a['Value'].replace('h',0);\n",
        "#print(pd.to_numeric(b))\n",
        "stemgraphic.stem_graphic(pd.to_numeric(b),scale=10)\n",
        "\n"
      ],
      "metadata": {
        "colab": {
          "base_uri": "https://localhost:8080/",
          "height": 153
        },
        "id": "UHtJpsH_KnlS",
        "outputId": "f0a2486f-d7db-45e7-891c-d71c9982c0c4"
      },
      "execution_count": null,
      "outputs": [
        {
          "output_type": "execute_result",
          "data": {
            "text/plain": [
              "(<Figure size 540x90 with 1 Axes>,\n",
              " <matplotlib.axes._axes.Axes at 0x7f203bf9a790>)"
            ]
          },
          "metadata": {},
          "execution_count": 40
        },
        {
          "output_type": "display_data",
          "data": {
            "text/plain": [
              "<Figure size 540x90 with 1 Axes>"
            ],
            "image/png": "[encoded data removed]"
          },
          "metadata": {
            "needs_background": "light"
          }
        }
      ]
    },
    {
      "cell_type": "markdown",
      "source": [
        "**Histogram of Unspecified blood glucose measurement**"
      ],
      "metadata": {
        "id": "x138NkwH33Gx"
      }
    },
    {
      "cell_type": "code",
      "source": [
        "import pandas as pd\n",
        "import io\n",
        "df=pd.read_csv('diabetes2.csv')\n",
        "d=df.iloc[:175]\n",
        "a=d.query(\"Code==48\")\n",
        "b=a['Value']\n",
        "b.hist(bins=12)"
      ],
      "metadata": {
        "colab": {
          "base_uri": "https://localhost:8080/",
          "height": 282
        },
        "id": "STN7BGZB8BCG",
        "outputId": "f520539a-c341-49c6-ff23-e35cc18d3879"
      },
      "execution_count": null,
      "outputs": [
        {
          "output_type": "execute_result",
          "data": {
            "text/plain": [
              "<matplotlib.axes._subplots.AxesSubplot at 0x7f203b596590>"
            ]
          },
          "metadata": {},
          "execution_count": 59
        },
        {
          "output_type": "display_data",
          "data": {
            "text/plain": [
              "<Figure size 432x288 with 1 Axes>"
            ],
            "image/png": "[encoded data removed]"
          },
          "metadata": {
            "needs_background": "light"
          }
        }
      ]
    },
    {
      "cell_type": "markdown",
      "source": [
        "**Boxplot of Unspecified blood glucose measurement**"
      ],
      "metadata": {
        "id": "ZnmhAKjt_xFM"
      }
    },
    {
      "cell_type": "code",
      "source": [
        "import pandas as pd\n",
        "import io\n",
        "import matplotlib.pyplot as plt\n",
        "\n",
        "df=pd.read_csv('diabetes2.csv')\n",
        "d=df.iloc[:175]\n",
        "a=d.query(\"Code==48\")\n",
        "b=a['Value']\n",
        "plt.boxplot(pd.to_numeric(b))\n",
        "plt.show()"
      ],
      "metadata": {
        "colab": {
          "base_uri": "https://localhost:8080/",
          "height": 267
        },
        "id": "CEXal_FBBOzO",
        "outputId": "fec38bb9-58e1-43f2-8a56-1f903b8f581d"
      },
      "execution_count": null,
      "outputs": [
        {
          "output_type": "display_data",
          "data": {
            "text/plain": [
              "<Figure size 432x288 with 1 Axes>"
            ],
            "image/png": "[encoded data removed]"
          },
          "metadata": {
            "needs_background": "light"
          }
        }
      ]
    },
    {
      "cell_type": "markdown",
      "source": [
        "**Measures of Central Tendency**"
      ],
      "metadata": {
        "id": "YD3o40hQCHFn"
      }
    },
    {
      "cell_type": "markdown",
      "source": [
        "\n",
        "\n",
        "1.   Blood glucose level before food: Mean of blood glucose level before breakfast, before lunch and before dinner.\n"
      ],
      "metadata": {
        "id": "3nNEbzVMC0My"
      }
    },
    {
      "cell_type": "code",
      "source": [
        "import pandas as pd\n",
        "import io\n",
        "import statistics\n",
        "df=pd.read_csv('diabetes2.csv')\n",
        "d=df.iloc[:175]\n",
        "#cleaning values with characters\n",
        "d['Value']=d['Value'].replace('0Hi',0)\n",
        "\n",
        "#Storing glucose values of bf,dinner and lunch in separate dataframes \n",
        "a=d.query(\"Code==58\")\n",
        "b=d.query(\"Code==60\")\n",
        "c=d.query(\"Code==62\")\n",
        "\n",
        "frames=[a,b,c]\n",
        "rs=pd.concat(frames)\n",
        "\n",
        "print(statistics.mean(pd.to_numeric(rs['Value']) ))"
      ],
      "metadata": {
        "colab": {
          "base_uri": "https://localhost:8080/"
        },
        "id": "wnv_tZhCDGKN",
        "outputId": "74b5a8cf-c0c9-4d37-9aa9-08aedd70a99f"
      },
      "execution_count": null,
      "outputs": [
        {
          "output_type": "stream",
          "name": "stdout",
          "text": [
            "193.23076923076923\n"
          ]
        },
        {
          "output_type": "stream",
          "name": "stderr",
          "text": [
            "/usr/local/lib/python3.7/dist-packages/ipykernel_launcher.py:7: SettingWithCopyWarning:\n",
            "\n",
            "\n",
            "A value is trying to be set on a copy of a slice from a DataFrame.\n",
            "Try using .loc[row_indexer,col_indexer] = value instead\n",
            "\n",
            "See the caveats in the documentation: https://pandas.pydata.org/pandas-docs/stable/user_guide/indexing.html#returning-a-view-versus-a-copy\n",
            "\n"
          ]
        }
      ]
    },
    {
      "cell_type": "markdown",
      "source": [
        "2.   Median of blood glucose level before breakfast,lunch and dinner.\n"
      ],
      "metadata": {
        "id": "WK-6mQdoHI4L"
      }
    },
    {
      "cell_type": "code",
      "source": [
        "import pandas as pd\n",
        "import io\n",
        "import statistics\n",
        "df=pd.read_csv('diabetes2.csv')\n",
        "d=df.iloc[:175]\n",
        "#cleaning values with characters\n",
        "d['Value']=d['Value'].replace('0Hi',0)\n",
        "\n",
        "a=d.query(\"Code==58\")\n",
        "b=d.query(\"Code==60\")\n",
        "c=d.query(\"Code==62\")\n",
        "\n",
        "frames=[a,b,c]\n",
        "rs=pd.concat(frames)\n",
        "#print(rs)\n",
        "print(statistics.median(pd.to_numeric(rs['Value'])))"
      ],
      "metadata": {
        "colab": {
          "base_uri": "https://localhost:8080/"
        },
        "id": "EHBzqwHbCOyP",
        "outputId": "928f122b-9db3-4d3a-91bd-b4d67b4bd08d"
      },
      "execution_count": null,
      "outputs": [
        {
          "output_type": "stream",
          "name": "stdout",
          "text": [
            "192\n"
          ]
        },
        {
          "output_type": "stream",
          "name": "stderr",
          "text": [
            "/usr/local/lib/python3.7/dist-packages/ipykernel_launcher.py:7: SettingWithCopyWarning:\n",
            "\n",
            "\n",
            "A value is trying to be set on a copy of a slice from a DataFrame.\n",
            "Try using .loc[row_indexer,col_indexer] = value instead\n",
            "\n",
            "See the caveats in the documentation: https://pandas.pydata.org/pandas-docs/stable/user_guide/indexing.html#returning-a-view-versus-a-copy\n",
            "\n"
          ]
        }
      ]
    },
    {
      "cell_type": "markdown",
      "source": [
        "3. Mode: Most frequent glucose level before dinner\n",
        "\n"
      ],
      "metadata": {
        "id": "A-wgiUXmI8xW"
      }
    },
    {
      "cell_type": "code",
      "source": [
        "import pandas as pd\n",
        "import io\n",
        "import statistics\n",
        "df=pd.read_csv('diabetes2.csv')\n",
        "d=df.iloc[:175]\n",
        "a=d.query(\"Code==62\")\n",
        "print(statistics.mode(a['Value'] ))"
      ],
      "metadata": {
        "colab": {
          "base_uri": "https://localhost:8080/"
        },
        "id": "JQ13U4lWJK4y",
        "outputId": "5e02249c-d574-4416-c4d3-1666f09f392e"
      },
      "execution_count": null,
      "outputs": [
        {
          "output_type": "stream",
          "name": "stdout",
          "text": [
            "141\n"
          ]
        }
      ]
    }
  ]
}